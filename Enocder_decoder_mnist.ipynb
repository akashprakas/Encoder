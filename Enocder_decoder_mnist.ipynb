{
 "cells": [
  {
   "cell_type": "code",
   "execution_count": 1,
   "metadata": {
    "collapsed": true
   },
   "outputs": [],
   "source": [
    "%matplotlib inline\n",
    "import os\n",
    "import struct\n",
    "import torch\n",
    "from PIL import Image\n",
    "import matplotlib.pyplot as plt\n",
    "import numpy as np\n",
    "import torchvision\n",
    "from torchvision import datasets"
   ]
  },
  {
   "cell_type": "code",
   "execution_count": 2,
   "metadata": {
    "collapsed": true
   },
   "outputs": [],
   "source": [
    "import codecs"
   ]
  },
  {
   "cell_type": "code",
   "execution_count": 3,
   "metadata": {},
   "outputs": [],
   "source": [
    "download =  datasets.MNIST('./MNIST/', train=True, download=True) "
   ]
  },
  {
   "cell_type": "code",
   "execution_count": 4,
   "metadata": {
    "collapsed": true
   },
   "outputs": [],
   "source": [
    "Datapath = 'MNIST/raw/'"
   ]
  },
  {
   "cell_type": "code",
   "execution_count": 5,
   "metadata": {
    "collapsed": true
   },
   "outputs": [],
   "source": [
    "def get_int(b):\n",
    "    return int(codecs.encode(b, 'hex'), 16)"
   ]
  },
  {
   "cell_type": "code",
   "execution_count": 6,
   "metadata": {
    "collapsed": true
   },
   "outputs": [],
   "source": [
    "def parse_byte(b):\n",
    "    if isinstance(b, str):\n",
    "        return ord(b)\n",
    "    return b"
   ]
  },
  {
   "cell_type": "code",
   "execution_count": 7,
   "metadata": {
    "collapsed": true
   },
   "outputs": [],
   "source": [
    "def read_image_file(path):\n",
    "    with open(path, 'rb') as f:\n",
    "        data = f.read()\n",
    "        assert get_int(data[:4]) == 2051\n",
    "        length = get_int(data[4:8])\n",
    "        num_rows = get_int(data[8:12])\n",
    "        num_cols = get_int(data[12:16])\n",
    "        images = []\n",
    "        idx = 16\n",
    "        for l in range(length):\n",
    "            img = []\n",
    "            images.append(img)\n",
    "            for r in range(num_rows):\n",
    "                row = []\n",
    "                img.append(row)\n",
    "                for c in range(num_cols):\n",
    "                    row.append(parse_byte(data[idx]))\n",
    "                    idx += 1\n",
    "        assert len(images) == length\n",
    "        return torch.ByteTensor(images).view(-1,784)"
   ]
  },
  {
   "cell_type": "code",
   "execution_count": 8,
   "metadata": {
    "collapsed": true
   },
   "outputs": [],
   "source": [
    "def read_label_file(path):\n",
    "    with open(path, 'rb') as f:\n",
    "        data = f.read()\n",
    "        assert get_int(data[:4]) == 2049\n",
    "        length = get_int(data[4:8])\n",
    "        labels = [parse_byte(b) for b in data[8:]]\n",
    "        assert len(labels) == length\n",
    "        return torch.LongTensor(labels)"
   ]
  },
  {
   "cell_type": "code",
   "execution_count": 9,
   "metadata": {
    "collapsed": true
   },
   "outputs": [],
   "source": [
    "TrainImages = read_image_file(os.path.join(Datapath, 'train-images-idx3-ubyte'))\n",
    "TrainLabels = read_label_file(os.path.join(Datapath, 'train-labels-idx1-ubyte'))\n",
    "TestImages = read_image_file(os.path.join(Datapath, 't10k-images-idx3-ubyte'))\n",
    "TestLabels = read_label_file(os.path.join(Datapath, 't10k-labels-idx1-ubyte'))"
   ]
  },
  {
   "cell_type": "code",
   "execution_count": 10,
   "metadata": {},
   "outputs": [
    {
     "name": "stdout",
     "output_type": "stream",
     "text": [
      "torch.Size([60000, 784])\n",
      "torch.Size([60000])\n",
      "torch.Size([10000, 784])\n",
      "torch.Size([10000])\n"
     ]
    }
   ],
   "source": [
    "print(TrainImages.size())\n",
    "print(TrainLabels.size())\n",
    "print(TestImages.size())\n",
    "print(TestLabels.size())"
   ]
  },
  {
   "cell_type": "code",
   "execution_count": 11,
   "metadata": {},
   "outputs": [
    {
     "data": {
      "text/plain": [
       "device(type='cpu')"
      ]
     },
     "execution_count": 11,
     "metadata": {},
     "output_type": "execute_result"
    }
   ],
   "source": [
    "device = torch.device('cuda' if torch.cuda.is_available() else 'cpu')\n",
    "device"
   ]
  },
  {
   "cell_type": "code",
   "execution_count": 12,
   "metadata": {
    "collapsed": true
   },
   "outputs": [],
   "source": [
    "from torch import autograd\n",
    "import torch.nn as nn\n",
    "import torch.functional as F\n",
    "import copy"
   ]
  },
  {
   "cell_type": "code",
   "execution_count": 13,
   "metadata": {},
   "outputs": [
    {
     "name": "stdout",
     "output_type": "stream",
     "text": [
      "autoencoder(\n",
      "  (encoder): Sequential(\n",
      "    (0): Linear(in_features=784, out_features=100, bias=True)\n",
      "    (1): ReLU()\n",
      "  )\n",
      "  (decoder): Sequential(\n",
      "    (0): Linear(in_features=100, out_features=784, bias=True)\n",
      "    (1): ReLU()\n",
      "  )\n",
      ")\n"
     ]
    }
   ],
   "source": [
    "\n",
    "class autoencoder(nn.Module):\n",
    "    def __init__(self):\n",
    "        super().__init__()\n",
    "        self.encoder = nn.Sequential(\n",
    "            nn.Linear(28*28, 100),\n",
    "            nn.ReLU())\n",
    "        self.decoder = nn.Sequential(\n",
    "            nn.Linear(100, 28*28),\n",
    "            nn.ReLU())\n",
    "\n",
    "    def forward(self,x):\n",
    "        x = self.encoder(x)\n",
    "        x = self.decoder(x)\n",
    "        return x\n",
    "model = autoencoder()\n",
    "print(model)"
   ]
  },
  {
   "cell_type": "code",
   "execution_count": 14,
   "metadata": {},
   "outputs": [
    {
     "data": {
      "text/plain": [
       "autoencoder(\n",
       "  (encoder): Sequential(\n",
       "    (0): Linear(in_features=784, out_features=100, bias=True)\n",
       "    (1): ReLU()\n",
       "  )\n",
       "  (decoder): Sequential(\n",
       "    (0): Linear(in_features=100, out_features=784, bias=True)\n",
       "    (1): ReLU()\n",
       "  )\n",
       ")"
      ]
     },
     "execution_count": 14,
     "metadata": {},
     "output_type": "execute_result"
    }
   ],
   "source": [
    "model.to(device)"
   ]
  },
  {
   "cell_type": "code",
   "execution_count": 15,
   "metadata": {
    "collapsed": true
   },
   "outputs": [],
   "source": [
    "import torch.optim as optim\n",
    "criterion = nn.MSELoss()\n",
    "optimizer = optim.SGD(model.parameters(),lr =0.5,momentum=.9)"
   ]
  },
  {
   "cell_type": "code",
   "execution_count": 16,
   "metadata": {
    "collapsed": true
   },
   "outputs": [],
   "source": [
    "from torch.autograd import Variable"
   ]
  },
  {
   "cell_type": "code",
   "execution_count": 28,
   "metadata": {},
   "outputs": [
    {
     "name": "stdout",
     "output_type": "stream",
     "text": [
      "loss is 0.6706855280075048 after 0 epoch\n",
      "loss is 0.66962116716339 after 1 epoch\n",
      "loss is 0.6685844059482936 after 2 epoch\n",
      "loss is 0.6675743117651098 after 3 epoch\n",
      "loss is 0.6665884881116569 after 4 epoch\n",
      "loss is 0.6656266922134644 after 5 epoch\n",
      "loss is 0.664688053444765 after 6 epoch\n",
      "loss is 0.6637708815590272 after 7 epoch\n",
      "loss is 0.6628753849014763 after 8 epoch\n",
      "loss is 0.6620001447219588 after 9 epoch\n",
      "loss is 0.661142880737251 after 10 epoch\n",
      "loss is 0.6603050779857804 after 11 epoch\n",
      "loss is 0.6594849993225502 after 12 epoch\n",
      "loss is 0.658681868307928 after 13 epoch\n",
      "loss is 0.6578939992148284 after 14 epoch\n",
      "loss is 0.6571212429808487 after 15 epoch\n",
      "loss is 0.6563570253007007 after 16 epoch\n",
      "loss is 0.6555993823471858 after 17 epoch\n",
      "loss is 0.6548410866728845 after 18 epoch\n",
      "loss is 0.6540700882879792 after 19 epoch\n",
      "loss is 0.6532825238468221 after 20 epoch\n",
      "loss is 0.6524783298802436 after 21 epoch\n",
      "loss is 0.6516814963690452 after 22 epoch\n",
      "loss is 0.6509057919429234 after 23 epoch\n",
      "loss is 0.6501572295768234 after 24 epoch\n",
      "loss is 0.6494350365864818 after 25 epoch\n",
      "loss is 0.6487379050175274 after 26 epoch\n",
      "loss is 0.6480608857470624 after 27 epoch\n",
      "loss is 0.6474010758243365 after 28 epoch\n",
      "loss is 0.6467560399858642 after 29 epoch\n",
      "loss is 0.6461245260157218 after 30 epoch\n",
      "loss is 0.6455046502499763 after 31 epoch\n",
      "loss is 0.6448995342750826 after 32 epoch\n",
      "loss is 0.644308969074693 after 33 epoch\n",
      "loss is 0.6437323881673295 after 34 epoch\n",
      "loss is 0.6431679313165146 after 35 epoch\n",
      "loss is 0.6426151532395187 after 36 epoch\n",
      "loss is 0.6420728974874618 after 37 epoch\n",
      "loss is 0.6415414979177289 after 38 epoch\n",
      "loss is 0.6410193831271497 after 39 epoch\n",
      "loss is 0.6405073842042439 after 40 epoch\n",
      "loss is 0.6400031774816529 after 41 epoch\n",
      "loss is 0.6395070591436671 after 42 epoch\n",
      "loss is 0.6390182001545531 after 43 epoch\n",
      "loss is 0.6385371938837034 after 44 epoch\n",
      "loss is 0.6380625694250921 after 45 epoch\n",
      "loss is 0.6375946088860852 after 46 epoch\n",
      "loss is 0.637130915340723 after 47 epoch\n",
      "loss is 0.6366708248485371 after 48 epoch\n",
      "loss is 0.6362092277522169 after 49 epoch\n",
      "loss is 0.6357345160822323 after 50 epoch\n",
      "loss is 0.6352445160749712 after 51 epoch\n",
      "loss is 0.6347550586331607 after 52 epoch\n",
      "loss is 0.634267642700822 after 53 epoch\n",
      "loss is 0.6337830665952403 after 54 epoch\n",
      "loss is 0.6332979645710822 after 55 epoch\n",
      "loss is 0.6328141863168417 after 56 epoch\n",
      "loss is 0.6323273933612776 after 57 epoch\n",
      "loss is 0.6318401324969918 after 58 epoch\n",
      "loss is 0.6313486394581537 after 59 epoch\n",
      "loss is 0.6308573981903016 after 60 epoch\n",
      "loss is 0.6303688569225473 after 61 epoch\n",
      "loss is 0.6298871709942828 after 62 epoch\n",
      "loss is 0.6294185225546893 after 63 epoch\n",
      "loss is 0.6289648375345699 after 64 epoch\n",
      "loss is 0.6285243064910505 after 65 epoch\n",
      "loss is 0.628097275273429 after 66 epoch\n",
      "loss is 0.6276855157699528 after 67 epoch\n",
      "loss is 0.6272859656108398 after 68 epoch\n",
      "loss is 0.6268977647037939 after 69 epoch\n",
      "loss is 0.6265187526639296 after 70 epoch\n",
      "loss is 0.6261484639050008 after 71 epoch\n",
      "loss is 0.6257872020292836 after 72 epoch\n",
      "loss is 0.6254339335988125 after 73 epoch\n",
      "loss is 0.6250876302095744 after 74 epoch\n",
      "loss is 0.6247474523465306 after 75 epoch\n",
      "loss is 0.6244134519360911 after 76 epoch\n",
      "loss is 0.6240858148094958 after 77 epoch\n",
      "loss is 0.6237643097941344 after 78 epoch\n",
      "loss is 0.6234490016998078 after 79 epoch\n",
      "loss is 0.6231384630182597 after 80 epoch\n",
      "loss is 0.6228336018956617 after 81 epoch\n",
      "loss is 0.6225337045254307 after 82 epoch\n",
      "loss is 0.6222388523574347 after 83 epoch\n",
      "loss is 0.6219491357616975 after 84 epoch\n",
      "loss is 0.6216637991393259 after 85 epoch\n",
      "loss is 0.6213831073293111 after 86 epoch\n",
      "loss is 0.6211074497410066 after 87 epoch\n",
      "loss is 0.6208355605543657 after 88 epoch\n",
      "loss is 0.6205676132829736 after 89 epoch\n",
      "loss is 0.6203039589057342 after 90 epoch\n",
      "loss is 0.6200439582638558 after 91 epoch\n",
      "loss is 0.6197878135380436 after 92 epoch\n",
      "loss is 0.6195357456907699 after 93 epoch\n",
      "loss is 0.6192870475722673 after 94 epoch\n",
      "loss is 0.6190420811934692 after 95 epoch\n",
      "loss is 0.6188005243101394 after 96 epoch\n",
      "loss is 0.6185626021990929 after 97 epoch\n",
      "loss is 0.6183283386462939 after 98 epoch\n",
      "loss is 0.6180967983482573 after 99 epoch\n",
      "loss is 0.6178682118537776 after 100 epoch\n",
      "loss is 0.6176429108138062 after 101 epoch\n",
      "loss is 0.6174206799647489 after 102 epoch\n",
      "loss is 0.617201564405954 after 103 epoch\n",
      "loss is 0.6169853718064269 after 104 epoch\n",
      "loss is 0.6167719957237858 after 105 epoch\n",
      "loss is 0.6165611000515518 after 106 epoch\n",
      "loss is 0.6163536941700591 after 107 epoch\n",
      "loss is 0.6161483297938362 after 108 epoch\n",
      "loss is 0.6159455772139097 after 109 epoch\n",
      "loss is 0.6157457547088828 after 110 epoch\n",
      "loss is 0.6155486681700646 after 111 epoch\n",
      "loss is 0.6153536155333768 after 112 epoch\n",
      "loss is 0.6151613475073969 after 113 epoch\n",
      "loss is 0.6149714049378217 after 114 epoch\n",
      "loss is 0.6147841125957446 after 115 epoch\n",
      "loss is 0.614598681488754 after 116 epoch\n",
      "loss is 0.6144152993862454 after 117 epoch\n",
      "loss is 0.6142327672583253 after 118 epoch\n",
      "loss is 0.6140526257759225 after 119 epoch\n",
      "loss is 0.6138751156015426 after 120 epoch\n",
      "loss is 0.6136996661909704 after 121 epoch\n",
      "loss is 0.6135255910769665 after 122 epoch\n",
      "loss is 0.6133537248571147 after 123 epoch\n",
      "loss is 0.6131843078907514 after 124 epoch\n",
      "loss is 0.6130164359937974 after 125 epoch\n",
      "loss is 0.612850983840025 after 126 epoch\n",
      "loss is 0.6126872924139218 after 127 epoch\n",
      "loss is 0.6125252597758185 after 128 epoch\n",
      "loss is 0.6123648255902191 after 129 epoch\n",
      "loss is 0.6122062219199764 after 130 epoch\n",
      "loss is 0.6120497725621684 after 131 epoch\n",
      "loss is 0.6118949576434933 after 132 epoch\n",
      "loss is 0.6117420049265252 after 133 epoch\n",
      "loss is 0.6115907479523306 after 134 epoch\n",
      "loss is 0.611441157495809 after 135 epoch\n",
      "loss is 0.6112934598882902 after 136 epoch\n",
      "loss is 0.6111471969114375 after 137 epoch\n",
      "loss is 0.611002175861522 after 138 epoch\n",
      "loss is 0.6108583585541336 after 139 epoch\n",
      "loss is 0.6107162735060713 after 140 epoch\n",
      "loss is 0.6105750919302292 after 141 epoch\n",
      "loss is 0.6104348888823286 after 142 epoch\n",
      "loss is 0.6102952223411239 after 143 epoch\n",
      "loss is 0.6101565346729058 after 144 epoch\n",
      "loss is 0.610018011164826 after 145 epoch\n",
      "loss is 0.609880169149494 after 146 epoch\n",
      "loss is 0.6097426659347107 after 147 epoch\n",
      "loss is 0.6096055005262696 after 148 epoch\n",
      "loss is 0.6094676666205606 after 149 epoch\n",
      "loss is 0.609331015460309 after 150 epoch\n",
      "loss is 0.6091944295307715 after 151 epoch\n",
      "loss is 0.6090596790513644 after 152 epoch\n",
      "loss is 0.6089255751117126 after 153 epoch\n",
      "loss is 0.6087908674004339 after 154 epoch\n",
      "loss is 0.6086576601783201 after 155 epoch\n",
      "loss is 0.6085259404244864 after 156 epoch\n",
      "loss is 0.6083961663369167 after 157 epoch\n",
      "loss is 0.6082666009332398 after 158 epoch\n",
      "loss is 0.6081374351336231 after 159 epoch\n",
      "loss is 0.6080091592319244 after 160 epoch\n",
      "loss is 0.6078809017900233 after 161 epoch\n",
      "loss is 0.6077523094407781 after 162 epoch\n",
      "loss is 0.6076228179508547 after 163 epoch\n",
      "loss is 0.6074946312205506 after 164 epoch\n",
      "loss is 0.6073674904518414 after 165 epoch\n",
      "loss is 0.6072420161916292 after 166 epoch\n",
      "loss is 0.6071190178843515 after 167 epoch\n",
      "loss is 0.6069975330871914 after 168 epoch\n",
      "loss is 0.6068782079253198 after 169 epoch\n",
      "loss is 0.6067613823810295 after 170 epoch\n",
      "loss is 0.6066464704336564 after 171 epoch\n",
      "loss is 0.6065339282192785 after 172 epoch\n",
      "loss is 0.6064229809034014 after 173 epoch\n",
      "loss is 0.606313319224821 after 174 epoch\n",
      "loss is 0.6062051503332845 after 175 epoch\n",
      "loss is 0.6060985137392021 after 176 epoch\n",
      "loss is 0.6059932951370778 after 177 epoch\n",
      "loss is 0.6058896827871313 after 178 epoch\n",
      "loss is 0.6057872531180691 after 179 epoch\n",
      "loss is 0.6056860185460929 after 180 epoch\n",
      "loss is 0.6055857830796691 after 181 epoch\n",
      "loss is 0.6054863981629894 after 182 epoch\n",
      "loss is 0.6053884752236791 after 183 epoch\n",
      "loss is 0.6052915009857931 after 184 epoch\n",
      "loss is 0.6051953295819444 after 185 epoch\n",
      "loss is 0.605099955320471 after 186 epoch\n",
      "loss is 0.6050046578629102 after 187 epoch\n",
      "loss is 0.6049078682735579 after 188 epoch\n",
      "loss is 0.6048060783002916 after 189 epoch\n",
      "loss is 0.6046593760742246 after 190 epoch\n",
      "loss is 0.6042868249333315 after 191 epoch\n",
      "loss is 0.6034818062193352 after 192 epoch\n",
      "loss is 0.6026777264499393 after 193 epoch\n"
     ]
    },
    {
     "name": "stdout",
     "output_type": "stream",
     "text": [
      "loss is 0.6020845494217318 after 194 epoch\n",
      "loss is 0.6017010763891585 after 195 epoch\n",
      "loss is 0.601408702345837 after 196 epoch\n",
      "loss is 0.6011698207499643 after 197 epoch\n",
      "loss is 0.6009656524063641 after 198 epoch\n",
      "loss is 0.6007827026553869 after 199 epoch\n",
      "loss is 0.6006194018607294 after 200 epoch\n",
      "loss is 0.6004680839530321 after 201 epoch\n",
      "loss is 0.600327743201995 after 202 epoch\n",
      "loss is 0.6001946242086537 after 203 epoch\n",
      "loss is 0.600068317409944 after 204 epoch\n",
      "loss is 0.5999469615800019 after 205 epoch\n",
      "loss is 0.5998299204069633 after 206 epoch\n",
      "loss is 0.5997131662257541 after 207 epoch\n",
      "loss is 0.5995956367599411 after 208 epoch\n",
      "loss is 0.5994722257808639 after 209 epoch\n",
      "loss is 0.5993475651247177 after 210 epoch\n",
      "loss is 0.599212588354699 after 211 epoch\n",
      "loss is 0.5990604878701116 after 212 epoch\n",
      "loss is 0.598848204592567 after 213 epoch\n",
      "loss is 0.5984395851530371 after 214 epoch\n",
      "loss is 0.5978762706385109 after 215 epoch\n",
      "loss is 0.5973869579242455 after 216 epoch\n",
      "loss is 0.5970294291639926 after 217 epoch\n",
      "loss is 0.5967561959339838 after 218 epoch\n",
      "loss is 0.5965351100503783 after 219 epoch\n",
      "loss is 0.5963445128325564 after 220 epoch\n",
      "loss is 0.5961764851537372 after 221 epoch\n",
      "loss is 0.596025514062762 after 222 epoch\n",
      "loss is 0.5958874911077734 after 223 epoch\n",
      "loss is 0.5957591098374987 after 224 epoch\n",
      "loss is 0.5956392248516177 after 225 epoch\n",
      "loss is 0.5955250158766016 after 226 epoch\n",
      "loss is 0.5954164579125218 after 227 epoch\n",
      "loss is 0.5953122848369768 after 228 epoch\n",
      "loss is 0.5952119113145014 after 229 epoch\n",
      "loss is 0.5951158161790266 after 230 epoch\n",
      "loss is 0.5950225019201084 after 231 epoch\n",
      "loss is 0.5949320360437884 after 232 epoch\n",
      "loss is 0.5948438818138856 after 233 epoch\n",
      "loss is 0.594757725394341 after 234 epoch\n",
      "loss is 0.594673085213511 after 235 epoch\n",
      "loss is 0.5945903085099494 after 236 epoch\n",
      "loss is 0.594509298943472 after 237 epoch\n",
      "loss is 0.5944299626525625 after 238 epoch\n",
      "loss is 0.5943519741426669 after 239 epoch\n",
      "loss is 0.5942754326193415 after 240 epoch\n",
      "loss is 0.5942002854771276 after 241 epoch\n",
      "loss is 0.5941263004759417 after 242 epoch\n",
      "loss is 0.5940533762698481 after 243 epoch\n",
      "loss is 0.5939811022835223 after 244 epoch\n",
      "loss is 0.593910143610157 after 245 epoch\n",
      "loss is 0.5938399765190155 after 246 epoch\n",
      "loss is 0.593770802736856 after 247 epoch\n",
      "loss is 0.5937021652903813 after 248 epoch\n",
      "loss is 0.5936348844724516 after 249 epoch\n",
      "loss is 0.5935682431392235 after 250 epoch\n",
      "loss is 0.5935025065582259 after 251 epoch\n",
      "loss is 0.5934369812185023 after 252 epoch\n",
      "loss is 0.5933723135936856 after 253 epoch\n",
      "loss is 0.5933080448370213 after 254 epoch\n",
      "loss is 0.5932442590374583 after 255 epoch\n",
      "loss is 0.5931811856078518 after 256 epoch\n",
      "loss is 0.5931185754508523 after 257 epoch\n",
      "loss is 0.5930562962975335 after 258 epoch\n",
      "loss is 0.5929947615803858 after 259 epoch\n",
      "loss is 0.5929336936755448 after 260 epoch\n",
      "loss is 0.5928732933558892 after 261 epoch\n",
      "loss is 0.5928132828993141 after 262 epoch\n",
      "loss is 0.5927536925378005 after 263 epoch\n",
      "loss is 0.5926945461377882 after 264 epoch\n",
      "loss is 0.5926358833916845 after 265 epoch\n",
      "loss is 0.5925776020089207 after 266 epoch\n",
      "loss is 0.5925198687966463 after 267 epoch\n",
      "loss is 0.592462502115606 after 268 epoch\n",
      "loss is 0.5924054532172901 after 269 epoch\n",
      "loss is 0.5923487199962787 after 270 epoch\n",
      "loss is 0.5922921919627997 after 271 epoch\n",
      "loss is 0.592235982538779 after 272 epoch\n",
      "loss is 0.5921799375694649 after 273 epoch\n",
      "loss is 0.5921242231604978 after 274 epoch\n",
      "loss is 0.5920683279478829 after 275 epoch\n",
      "loss is 0.5920126219953622 after 276 epoch\n",
      "loss is 0.5919572954755333 after 277 epoch\n",
      "loss is 0.591902244396245 after 278 epoch\n",
      "loss is 0.5918472071802882 after 279 epoch\n",
      "loss is 0.5917919505147885 after 280 epoch\n",
      "loss is 0.5917366105764289 after 281 epoch\n",
      "loss is 0.5916808110504211 after 282 epoch\n",
      "loss is 0.5916249727952135 after 283 epoch\n",
      "loss is 0.5915684954722742 after 284 epoch\n",
      "loss is 0.5915116391636548 after 285 epoch\n",
      "loss is 0.5914550315162433 after 286 epoch\n",
      "loss is 0.5913978822090813 after 287 epoch\n",
      "loss is 0.5913405220050248 after 288 epoch\n",
      "loss is 0.5912823387770607 after 289 epoch\n",
      "loss is 0.591223521160888 after 290 epoch\n",
      "loss is 0.5911634789451327 after 291 epoch\n",
      "loss is 0.5911012935828553 after 292 epoch\n",
      "loss is 0.5910374962762571 after 293 epoch\n",
      "loss is 0.5909700572354037 after 294 epoch\n",
      "loss is 0.5908950509899753 after 295 epoch\n",
      "loss is 0.5908145880841728 after 296 epoch\n",
      "loss is 0.5907261639952431 after 297 epoch\n",
      "loss is 0.5906333413071287 after 298 epoch\n",
      "loss is 0.5905338413486194 after 299 epoch\n",
      "loss is 0.5904294993987106 after 300 epoch\n",
      "loss is 0.5903273204698837 after 301 epoch\n",
      "loss is 0.5902254072214969 after 302 epoch\n",
      "loss is 0.5901251008122065 after 303 epoch\n",
      "loss is 0.5900227345816852 after 304 epoch\n",
      "loss is 0.5899211932674169 after 305 epoch\n",
      "loss is 0.5898197498214621 after 306 epoch\n",
      "loss is 0.5897206196902808 after 307 epoch\n",
      "loss is 0.5896250549082626 after 308 epoch\n",
      "loss is 0.5895325648562392 after 309 epoch\n",
      "loss is 0.5894435234113508 after 310 epoch\n",
      "loss is 0.5893578588411357 after 311 epoch\n",
      "loss is 0.5892755508017963 after 312 epoch\n",
      "loss is 0.5891955189875203 after 313 epoch\n",
      "loss is 0.5891182991906873 after 314 epoch\n",
      "loss is 0.5890432592600201 after 315 epoch\n",
      "loss is 0.588970041552467 after 316 epoch\n",
      "loss is 0.5888984050142482 after 317 epoch\n",
      "loss is 0.5888283382251198 after 318 epoch\n",
      "loss is 0.5887592697379521 after 319 epoch\n",
      "loss is 0.588691452585725 after 320 epoch\n",
      "loss is 0.588624786288775 after 321 epoch\n",
      "loss is 0.5885588357288088 after 322 epoch\n",
      "loss is 0.5884933398609208 after 323 epoch\n",
      "loss is 0.5884280790819179 after 324 epoch\n",
      "loss is 0.5883631955198516 after 325 epoch\n",
      "loss is 0.5882988290718574 after 326 epoch\n",
      "loss is 0.5882342325504949 after 327 epoch\n",
      "loss is 0.588170031246403 after 328 epoch\n",
      "loss is 0.5881059411574313 after 329 epoch\n",
      "loss is 0.5880420112227766 after 330 epoch\n",
      "loss is 0.5879779114662205 after 331 epoch\n",
      "loss is 0.587913702946495 after 332 epoch\n",
      "loss is 0.5878497154872793 after 333 epoch\n",
      "loss is 0.5877847993458374 after 334 epoch\n",
      "loss is 0.5877193537087618 after 335 epoch\n",
      "loss is 0.5876533826741276 after 336 epoch\n",
      "loss is 0.5875872586413063 after 337 epoch\n",
      "loss is 0.5875206686364597 after 338 epoch\n",
      "loss is 0.5874530367354068 after 339 epoch\n",
      "loss is 0.587385226918613 after 340 epoch\n",
      "loss is 0.5873168728628486 after 341 epoch\n",
      "loss is 0.5872480332270268 after 342 epoch\n",
      "loss is 0.5871795745458781 after 343 epoch\n",
      "loss is 0.5871108651560139 after 344 epoch\n",
      "loss is 0.587042056501421 after 345 epoch\n",
      "loss is 0.5869728567413698 after 346 epoch\n",
      "loss is 0.5869036085296191 after 347 epoch\n",
      "loss is 0.5868345086048076 after 348 epoch\n",
      "loss is 0.5867658764323463 after 349 epoch\n",
      "loss is 0.5866979535081507 after 350 epoch\n",
      "loss is 0.586630814720149 after 351 epoch\n",
      "loss is 0.586564164919125 after 352 epoch\n",
      "loss is 0.5864980525315353 after 353 epoch\n",
      "loss is 0.5864326895673941 after 354 epoch\n",
      "loss is 0.5863678846775368 after 355 epoch\n",
      "loss is 0.586303358941468 after 356 epoch\n",
      "loss is 0.5862393005537319 after 357 epoch\n",
      "loss is 0.5861759496941511 after 358 epoch\n",
      "loss is 0.5861128102810486 after 359 epoch\n",
      "loss is 0.5860499611671561 after 360 epoch\n",
      "loss is 0.5859877527721552 after 361 epoch\n",
      "loss is 0.5859257820327493 after 362 epoch\n",
      "loss is 0.5858643805669407 after 363 epoch\n",
      "loss is 0.5858031684794558 after 364 epoch\n",
      "loss is 0.5857420592775667 after 365 epoch\n",
      "loss is 0.5856812973324107 after 366 epoch\n",
      "loss is 0.5856209243875737 after 367 epoch\n",
      "loss is 0.5855609103038126 after 368 epoch\n",
      "loss is 0.5855009498669362 after 369 epoch\n",
      "loss is 0.5854411779957042 after 370 epoch\n",
      "loss is 0.5853806771411759 after 371 epoch\n",
      "loss is 0.5853194007233645 after 372 epoch\n",
      "loss is 0.5852586377507442 after 373 epoch\n",
      "loss is 0.5851979963262244 after 374 epoch\n",
      "loss is 0.5851329367191057 after 375 epoch\n",
      "loss is 0.5845845734475946 after 376 epoch\n",
      "loss is 0.5781211256087765 after 377 epoch\n",
      "loss is 0.5732988782723598 after 378 epoch\n",
      "loss is 0.5716565861540459 after 379 epoch\n",
      "loss is 0.5707525907005633 after 380 epoch\n",
      "loss is 0.5701470837953806 after 381 epoch\n",
      "loss is 0.5696974921062041 after 382 epoch\n",
      "loss is 0.5693358267172877 after 383 epoch\n",
      "loss is 0.5690269140565388 after 384 epoch\n",
      "loss is 0.5687504141489371 after 385 epoch\n"
     ]
    },
    {
     "name": "stdout",
     "output_type": "stream",
     "text": [
      "loss is 0.5684992151453779 after 386 epoch\n",
      "loss is 0.5682696943122784 after 387 epoch\n",
      "loss is 0.5680617346662717 after 388 epoch\n",
      "loss is 0.567866190232931 after 389 epoch\n",
      "loss is 0.567683229257822 after 390 epoch\n",
      "loss is 0.5675142759032099 after 391 epoch\n",
      "loss is 0.5673576050448144 after 392 epoch\n",
      "loss is 0.5672145501678091 after 393 epoch\n",
      "loss is 0.5670814902578324 after 394 epoch\n",
      "loss is 0.5669590716074118 after 395 epoch\n",
      "loss is 0.5668438447441353 after 396 epoch\n",
      "loss is 0.5667354390899573 after 397 epoch\n",
      "loss is 0.566633371596839 after 398 epoch\n",
      "loss is 0.5665364325212867 after 399 epoch\n"
     ]
    }
   ],
   "source": [
    "iterations=400\n",
    "Batch =1000\n",
    "for epoch in range(iterations):\n",
    "    runningloss =0\n",
    "    for i in range(60):\n",
    "        inputs = torch.index_select(TrainImages,0,torch.linspace(i*Batch,(i+1)*Batch - 1,steps=Batch)\n",
    "                                  .long()).double()\n",
    "        inputs = inputs/255\n",
    "        \n",
    "        optimizer.zero_grad()\n",
    "        model.double()\n",
    "        outputs = model(inputs)\n",
    "        loss = criterion(outputs,inputs)\n",
    "        loss.backward()\n",
    "        optimizer.step()\n",
    "        runningloss+= loss.item()\n",
    "    print(f'loss is {runningloss} after {epoch} epoch')\n",
    "        \n",
    "        "
   ]
  },
  {
   "cell_type": "code",
   "execution_count": null,
   "metadata": {
    "collapsed": true
   },
   "outputs": [],
   "source": []
  },
  {
   "cell_type": "code",
   "execution_count": 29,
   "metadata": {},
   "outputs": [
    {
     "data": {
      "text/plain": [
       "<matplotlib.image.AxesImage at 0x7f7ed6b04c18>"
      ]
     },
     "execution_count": 29,
     "metadata": {},
     "output_type": "execute_result"
    },
    {
     "data": {
      "image/png": "[encoded data removed]",
      "text/plain": [
       "<Figure size 432x288 with 2 Axes>"
      ]
     },
     "metadata": {},
     "output_type": "display_data"
    }
   ],
   "source": [
    "TestImg = torch.index_select(TestImages,0,torch.LongTensor([1]))\n",
    "outputImg = model(TestImg.double())\n",
    "outputImg = (outputImg*255).byte()\n",
    "outputImg = outputImg.view(-1,28,28)\n",
    "TestImg = TestImg.view(-1,28,28)\n",
    "\n",
    "fig1 = plt.figure(1)\n",
    "ax1 = fig1.add_subplot(1,2,1)\n",
    "img = np.array(TestImg.numpy())[0]\n",
    "ax1.imshow(img,cmap='gray')\n",
    "\n",
    "ax2 = fig1.add_subplot(1,2,2)\n",
    "img2 = np.array(outputImg.numpy())[0]\n",
    "ax2.imshow(img2,cmap='gray')\n",
    "\n",
    "\n",
    "\n"
   ]
  },
  {
   "cell_type": "markdown",
   "metadata": {},
   "source": [
    "## Removing decoder and adding classification layer"
   ]
  },
  {
   "cell_type": "code",
   "execution_count": 30,
   "metadata": {},
   "outputs": [
    {
     "data": {
      "text/plain": [
       "[Sequential(\n",
       "   (0): Linear(in_features=784, out_features=100, bias=True)\n",
       "   (1): ReLU()\n",
       " ), Sequential(\n",
       "   (0): Linear(in_features=100, out_features=784, bias=True)\n",
       "   (1): ReLU()\n",
       " )]"
      ]
     },
     "execution_count": 30,
     "metadata": {},
     "output_type": "execute_result"
    }
   ],
   "source": [
    "list(model.children())"
   ]
  },
  {
   "cell_type": "code",
   "execution_count": 31,
   "metadata": {},
   "outputs": [
    {
     "name": "stdout",
     "output_type": "stream",
     "text": [
      "Sequential(\n",
      "  (0): Sequential(\n",
      "    (0): Linear(in_features=784, out_features=100, bias=True)\n",
      "    (1): ReLU()\n",
      "  )\n",
      "  (classifier): Sequential(\n",
      "    (0): Linear(in_features=100, out_features=10, bias=True)\n",
      "    (1): LogSoftmax()\n",
      "  )\n",
      ")\n"
     ]
    }
   ],
   "source": [
    "new_classifier = nn.Sequential(*list(model.children())[:-1])\n",
    "model = new_classifier\n",
    "model.add_module('classifier',nn.Sequential(nn.Linear(100,10),nn.LogSoftmax()))\n",
    "\n",
    "print(model)"
   ]
  },
  {
   "cell_type": "code",
   "execution_count": 32,
   "metadata": {},
   "outputs": [
    {
     "data": {
      "text/plain": [
       "[Sequential(\n",
       "   (0): Linear(in_features=784, out_features=100, bias=True)\n",
       "   (1): ReLU()\n",
       " ), Sequential(\n",
       "   (0): Linear(in_features=100, out_features=10, bias=True)\n",
       "   (1): LogSoftmax()\n",
       " )]"
      ]
     },
     "execution_count": 32,
     "metadata": {},
     "output_type": "execute_result"
    }
   ],
   "source": [
    "list(model.children())"
   ]
  },
  {
   "cell_type": "code",
   "execution_count": 41,
   "metadata": {},
   "outputs": [
    {
     "data": {
      "text/plain": [
       "Linear(in_features=784, out_features=100, bias=True)"
      ]
     },
     "execution_count": 41,
     "metadata": {},
     "output_type": "execute_result"
    }
   ],
   "source": [
    "model[0][0]"
   ]
  },
  {
   "cell_type": "code",
   "execution_count": 37,
   "metadata": {},
   "outputs": [
    {
     "data": {
      "text/plain": [
       "torch.Size([100, 784])"
      ]
     },
     "execution_count": 37,
     "metadata": {},
     "output_type": "execute_result"
    }
   ],
   "source": [
    "cll_weights = copy.deepcopy(model[0][0].weight.data)\n",
    "cll_weights.shape"
   ]
  },
  {
   "cell_type": "code",
   "execution_count": 39,
   "metadata": {},
   "outputs": [
    {
     "data": {
      "text/plain": [
       "torch.Size([10, 100])"
      ]
     },
     "execution_count": 39,
     "metadata": {},
     "output_type": "execute_result"
    }
   ],
   "source": [
    "init_classifier_weights = copy.deepcopy(model.classifier[0].weight.data)\n",
    "init_classifier_weights.shape"
   ]
  },
  {
   "cell_type": "code",
   "execution_count": 69,
   "metadata": {},
   "outputs": [
    {
     "name": "stderr",
     "output_type": "stream",
     "text": [
      "/home/mech_guruprasad/.conda/envs/env_full/lib/python3.6/site-packages/torch/nn/modules/container.py:91: UserWarning: Implicit dimension choice for log_softmax has been deprecated. Change the call to include dim=X as an argument.\n",
      "  input = module(input)\n"
     ]
    },
    {
     "name": "stdout",
     "output_type": "stream",
     "text": [
      "at iteration 0/30; Traininf loss:0.00944227387535478 testAcc :94\n",
      "at iteration 1/30; Traininf loss:0.00944227387535478 testAcc :94\n",
      "at iteration 2/30; Traininf loss:0.00944227387535478 testAcc :94\n",
      "at iteration 3/30; Traininf loss:0.00944227387535478 testAcc :94\n",
      "at iteration 4/30; Traininf loss:0.00944227387535478 testAcc :94\n",
      "at iteration 5/30; Traininf loss:0.00944227387535478 testAcc :94\n",
      "at iteration 6/30; Traininf loss:0.00944227387535478 testAcc :94\n",
      "at iteration 7/30; Traininf loss:0.00944227387535478 testAcc :94\n",
      "at iteration 8/30; Traininf loss:0.00944227387535478 testAcc :94\n",
      "at iteration 9/30; Traininf loss:0.00944227387535478 testAcc :94\n",
      "at iteration 10/30; Traininf loss:0.00944227387535478 testAcc :95\n",
      "at iteration 11/30; Traininf loss:0.00944227387535478 testAcc :95\n",
      "at iteration 12/30; Traininf loss:0.00944227387535478 testAcc :95\n",
      "at iteration 13/30; Traininf loss:0.00944227387535478 testAcc :95\n",
      "at iteration 14/30; Traininf loss:0.00944227387535478 testAcc :95\n",
      "at iteration 15/30; Traininf loss:0.00944227387535478 testAcc :95\n",
      "at iteration 16/30; Traininf loss:0.00944227387535478 testAcc :95\n",
      "at iteration 17/30; Traininf loss:0.00944227387535478 testAcc :95\n",
      "at iteration 18/30; Traininf loss:0.00944227387535478 testAcc :95\n",
      "at iteration 19/30; Traininf loss:0.00944227387535478 testAcc :95\n",
      "at iteration 20/30; Traininf loss:0.00944227387535478 testAcc :95\n",
      "at iteration 21/30; Traininf loss:0.00944227387535478 testAcc :95\n",
      "at iteration 22/30; Traininf loss:0.00944227387535478 testAcc :95\n",
      "at iteration 23/30; Traininf loss:0.00944227387535478 testAcc :95\n",
      "at iteration 24/30; Traininf loss:0.00944227387535478 testAcc :95\n",
      "at iteration 25/30; Traininf loss:0.00944227387535478 testAcc :95\n",
      "at iteration 26/30; Traininf loss:0.00944227387535478 testAcc :95\n",
      "at iteration 27/30; Traininf loss:0.00944227387535478 testAcc :95\n",
      "at iteration 28/30; Traininf loss:0.00944227387535478 testAcc :95\n",
      "at iteration 29/30; Traininf loss:0.00944227387535478 testAcc :95\n",
      "Finished training\n"
     ]
    }
   ],
   "source": [
    "iterations = 30\n",
    "BatchSize = 1000\n",
    "runningLoss =0\n",
    "for epoch in range(30):\n",
    "    for i in range(60):\n",
    "        inputs = torch.index_select(TrainImages,0,torch.linspace(i*BatchSize,(i+1)*BatchSize - 1,steps=BatchSize)\n",
    "                                      .long()).double()\n",
    "        labels = torch.index_select(TrainLabels,0,torch.linspace(i*BatchSize,(i+1)*BatchSize - 1,steps=BatchSize)\n",
    "                                      .long()).long()\n",
    "\n",
    "        inputs = inputs/255\n",
    "        optimizer.zero_grad()\n",
    "        model.double()\n",
    "        outputs = model(inputs)\n",
    "        loss = criterion(outputs,labels)\n",
    "        loss.backward()\n",
    "        optimizer.step()\n",
    "        runningLoss += loss.item()\n",
    "    inputs  = TestImages.double()/255\n",
    "    outputs = model(inputs)\n",
    "    #print('output shape',outputs.shape)\n",
    "    _,predicted = torch.max(outputs.data,1)\n",
    "    #print('predicted shape',predicted.shape)\n",
    "    #print('test labels shape',TestLabels.shape)\n",
    "    correct =0\n",
    "    total =0\n",
    "    total += TestLabels.size(0)\n",
    "    correct += (predicted == TestLabels).sum()\n",
    "    print(f\"at iteration {epoch}/{iterations}; Traininf loss:{runningloss/60} testAcc :{100* correct/float(total)}\")\n",
    "    \n",
    "print('Finished training')"
   ]
  },
  {
   "cell_type": "code",
   "execution_count": 72,
   "metadata": {},
   "outputs": [
    {
     "data": {
      "text/plain": [
       "torch.Size([100, 784])"
      ]
     },
     "execution_count": 72,
     "metadata": {},
     "output_type": "execute_result"
    }
   ],
   "source": [
    "cll_weights_after = copy.deepcopy(model[0][0].weight.data)\n",
    "cll_weights_after.shape"
   ]
  },
  {
   "cell_type": "markdown",
   "metadata": {},
   "source": [
    "## weigth visualisation"
   ]
  },
  {
   "cell_type": "code",
   "execution_count": 73,
   "metadata": {},
   "outputs": [],
   "source": [
    "cll_weights = (1 + cll_weights)*127.5\n",
    "cll_weights_after = (1 + cll_weights_after)*127.5"
   ]
  },
  {
   "cell_type": "code",
   "execution_count": 74,
   "metadata": {},
   "outputs": [
    {
     "data": {
      "text/plain": [
       "torch.Size([100, 784])"
      ]
     },
     "execution_count": 74,
     "metadata": {},
     "output_type": "execute_result"
    }
   ],
   "source": [
    "cll_weights.shape"
   ]
  },
  {
   "cell_type": "code",
   "execution_count": 75,
   "metadata": {
    "collapsed": true
   },
   "outputs": [],
   "source": [
    "cll_weights = cll_weights.view(-1,280,280).byte()\n",
    "cll_weights_after = cll_weights_after.view(-1,280,280).byte()"
   ]
  },
  {
   "cell_type": "code",
   "execution_count": 78,
   "metadata": {},
   "outputs": [
    {
     "data": {
      "text/plain": [
       "<matplotlib.image.AxesImage at 0x7f7e3c158160>"
      ]
     },
     "execution_count": 78,
     "metadata": {},
     "output_type": "execute_result"
    },
    {
     "data": {
      "image/png": "[encoded data removed]",
      "text/plain": [
       "<Figure size 432x288 with 3 Axes>"
      ]
     },
     "metadata": {},
     "output_type": "display_data"
    }
   ],
   "source": [
    "fig = plt.figure(1)\n",
    "ax = fig.add_subplot(1,3,1)\n",
    "img = np.array(cll_weights.numpy())[0]\n",
    "ax.set_title('encoder weights')\n",
    "ax.imshow(img,cmap='gray')\n",
    "\n",
    "ax1 = fig.add_subplot(1,3,2)\n",
    "img1 = np.array(cll_weights_after.numpy())[0]\n",
    "ax1.set_title('tuned weigts')\n",
    "ax1.imshow(img1,cmap='gray')\n",
    "\n",
    "ax3 = fig.add_subplot(1,3,3)\n",
    "d_weights = cll_weights - cll_weights_after\n",
    "img3 = np.array(d_weights.numpy())[0]\n",
    "ax3.set_title('weight update')\n",
    "ax3.imshow(img3,cmap='gray')"
   ]
  }
 ],
 "metadata": {
  "kernelspec": {
   "display_name": "env_full",
   "language": "python",
   "name": "env_full"
  },
  "language_info": {
   "codemirror_mode": {
    "name": "ipython",
    "version": 3
   },
   "file_extension": ".py",
   "mimetype": "text/x-python",
   "name": "python",
   "nbconvert_exporter": "python",
   "pygments_lexer": "ipython3",
   "version": "3.6.5"
  }
 },
 "nbformat": 4,
 "nbformat_minor": 2
}
