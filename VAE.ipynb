{
 "cells": [
  {
   "cell_type": "code",
   "execution_count": 1,
   "metadata": {},
   "outputs": [],
   "source": [
    "import torch\n",
    "import torch.utils.data\n",
    "from torch import nn, optim\n",
    "from torch.nn import functional as F\n",
    "from torchvision import datasets, transforms\n",
    "from torchvision.utils import save_image"
   ]
  },
  {
   "cell_type": "code",
   "execution_count": 2,
   "metadata": {},
   "outputs": [],
   "source": [
    "device = torch.device('cuda' if torch.cuda.is_available() else 'cpu')"
   ]
  },
  {
   "cell_type": "code",
   "execution_count": 3,
   "metadata": {},
   "outputs": [
    {
     "name": "stdout",
     "output_type": "stream",
     "text": [
      "Downloading http://yann.lecun.com/exdb/mnist/train-images-idx3-ubyte.gz\n",
      "Downloading http://yann.lecun.com/exdb/mnist/train-labels-idx1-ubyte.gz\n",
      "Downloading http://yann.lecun.com/exdb/mnist/t10k-images-idx3-ubyte.gz\n",
      "Downloading http://yann.lecun.com/exdb/mnist/t10k-labels-idx1-ubyte.gz\n",
      "Processing...\n",
      "Done!\n"
     ]
    }
   ],
   "source": [
    "train_loader = torch.utils.data.DataLoader(\n",
    "        datasets.MNIST('./data_mnist', train=True, download=True,\n",
    "                       transform=transforms.Compose([\n",
    "                           transforms.ToTensor(),\n",
    "                           transforms.Normalize((0.1307,), (0.3081,))\n",
    "                       ])),\n",
    "        batch_size=4, shuffle=True)\n",
    "test_loader = torch.utils.data.DataLoader(\n",
    "        datasets.MNIST('./data_mnist', train=False, transform=transforms.Compose([\n",
    "                           transforms.ToTensor(),\n",
    "                           transforms.Normalize((0.1307,), (0.3081,))\n",
    "                       ])),batch_size=4, shuffle=True)"
   ]
  },
  {
   "cell_type": "code",
   "execution_count": 9,
   "metadata": {},
   "outputs": [],
   "source": [
    "class VAE(nn.Module):\n",
    "    def __init__(self):\n",
    "        super(VAE,self).__init__()\n",
    "        self.fc1 = nn.Linear(784,400)\n",
    "        self.fc21=nn.Linear(400,20)\n",
    "        self.fc22 = nn.Linear(400,20)\n",
    "        self.fc3 = nn.Linear(20,400)\n",
    "        self.fc4 = nn.Linear(400,784)\n",
    "        \n",
    "    def encode(self,x):\n",
    "        h1 = F.relu(self.fc1(x))\n",
    "        return self.fc21(h1),self.fc22(h1)\n",
    "    \n",
    "    def reparameterize(self,mu,logvar):\n",
    "        std = torch.exp(0.5*logvar)\n",
    "        eps = torch.rand_like(std)\n",
    "        return eps.mul(std).add_(mu)\n",
    "    def decode(self,z):\n",
    "        h3 =F.relu(self.fc3(z))\n",
    "        return torch.sigmoid(self.fc4(h3))\n",
    "    \n",
    "    def forward(self,x):\n",
    "        mu,logvar = self.encode(x.view(-1,784))\n",
    "        z = self.reparameterize(mu,logvar)\n",
    "        return self.decode(z),mu,logvar\n",
    "    \n",
    "        "
   ]
  },
  {
   "cell_type": "code",
   "execution_count": 10,
   "metadata": {},
   "outputs": [],
   "source": [
    "model = VAE().to(device)"
   ]
  },
  {
   "cell_type": "code",
   "execution_count": 11,
   "metadata": {},
   "outputs": [],
   "source": [
    "optimizer = optim.Adam(model.parameters(),lr=1e-3) "
   ]
  },
  {
   "cell_type": "code",
   "execution_count": 12,
   "metadata": {},
   "outputs": [],
   "source": [
    "def loss_function(recon_x,x,mu,logvar):\n",
    "    BCE = F.binary_cross_entropy(recon_x, x.view(-1, 784), reduction='sum')\n",
    "    KLD = -0.5 * torch.sum(1 + logvar - mu.pow(2) - logvar.exp())\n",
    "    return BCE +KLD"
   ]
  },
  {
   "cell_type": "code",
   "execution_count": 13,
   "metadata": {},
   "outputs": [],
   "source": [
    "def train(epoch):\n",
    "    model.train()\n",
    "    train_loss =0\n",
    "    for batch_idx,(data,_) in enumerate(train_loader):\n",
    "        data = data.to(device)\n",
    "        optimizer.zero_grad()\n",
    "        recon_batch,mu,logvar = model(data)\n",
    "        loss = loss_function(recon_batch,data,mu,logvar)\n",
    "        loss.backward()\n",
    "        train_loss += loss.item()\n",
    "        optimizer.step()\n",
    "        if batch_idx%1000 ==999:\n",
    "            \n",
    "            print(f'{epoch+1} {batch_idx+1} loss:{train_loss/1000}')\n",
    "            train_loss=0\n",
    "    print('training ended')\n",
    "                "
   ]
  },
  {
   "cell_type": "code",
   "execution_count": 15,
   "metadata": {},
   "outputs": [],
   "source": [
    "def test(epoch):\n",
    "    model.eval()\n",
    "    test_loss=0\n",
    "    with torch.no_grad():\n",
    "        for i,(data,_) in enumerate(test_loader):\n",
    "            data = data.to(device)\n",
    "            recon_batch,mu,logvar = model(data)\n",
    "            test_loss += loss_function(recon_batch,data,mu,logvar).item()\n",
    "            if i==0:\n",
    "                n = min(data.size(0),8)\n",
    "                camparison = torch.cat([data[:n],recon_batch.view(4,1,28,28)[:n]])\n",
    "                save_image(camparison.cpu(),'results/reconstruuction_' +str(epoch)+'.png',nrow=n)\n",
    "    test_loss/= len(test_loader.dataset)\n",
    "    print(f'====> Test set loss : {test_loss:.4f}')"
   ]
  },
  {
   "cell_type": "code",
   "execution_count": 16,
   "metadata": {},
   "outputs": [
    {
     "name": "stdout",
     "output_type": "stream",
     "text": [
      "1 1000 loss:-56458.29045059204\n",
      "1 2000 loss:-77805.46035546875\n",
      "1 3000 loss:-81718.43291015625\n",
      "1 4000 loss:-84160.46915234375\n",
      "1 5000 loss:-86284.5628828125\n",
      "1 6000 loss:-87851.4858359375\n",
      "1 7000 loss:-88940.1206484375\n",
      "1 8000 loss:-89801.9001796875\n",
      "1 9000 loss:-90491.81290625\n",
      "1 10000 loss:-91282.230625\n",
      "1 11000 loss:-91584.4523046875\n",
      "1 12000 loss:-92159.7143515625\n",
      "1 13000 loss:-92141.7953515625\n",
      "1 14000 loss:-92233.72809375\n",
      "1 15000 loss:-92700.31775\n",
      "training ended\n",
      "====> Test set loss : -23315.8543\n",
      "2 1000 loss:-93016.101921875\n",
      "2 2000 loss:-92919.80846875\n",
      "2 3000 loss:-93131.5691796875\n",
      "2 4000 loss:-92918.663546875\n",
      "2 5000 loss:-93545.7057109375\n",
      "2 6000 loss:-93802.20909375\n",
      "2 7000 loss:-93457.8109765625\n",
      "2 8000 loss:-93739.9311640625\n",
      "2 9000 loss:-93937.0112578125\n",
      "2 10000 loss:-94071.78959375\n",
      "2 11000 loss:-93960.5300546875\n",
      "2 12000 loss:-94281.1640078125\n",
      "2 13000 loss:-94328.97396875\n",
      "2 14000 loss:-95808.581890625\n",
      "2 15000 loss:-96019.923015625\n",
      "training ended\n",
      "====> Test set loss : -24022.2221\n"
     ]
    }
   ],
   "source": [
    "for epoch in range(2):\n",
    "    train(epoch)\n",
    "    test(epoch)\n",
    "    with torch.no_grad():\n",
    "        sample = torch.randn(4,20).to(device)\n",
    "        sample = model.decode(sample).cpu()\n",
    "        save_image(sample.view(4,28,28),'results/sample_'+str(epoch)+'.png')"
   ]
  },
  {
   "cell_type": "code",
   "execution_count": 17,
   "metadata": {},
   "outputs": [],
   "source": [
    " with torch.no_grad():\n",
    "            sample = torch.randn(64, 20).to(device)\n",
    "            sample = model.decode(sample).cpu()\n",
    "            save_image(sample.view(64, 1, 28, 28),\n",
    "                       'results/sample_' + str(3) + '.png')"
   ]
  },
  {
   "cell_type": "code",
   "execution_count": 19,
   "metadata": {},
   "outputs": [
    {
     "ename": "ImportError",
     "evalue": "cannot import name 'image' from 'PIL' (/home/172mc001/anaconda3/lib/python3.7/site-packages/PIL/__init__.py)",
     "output_type": "error",
     "traceback": [
      "\u001b[0;31m---------------------------------------------------------------------------\u001b[0m",
      "\u001b[0;31mImportError\u001b[0m                               Traceback (most recent call last)",
      "\u001b[0;32m<ipython-input-19-7892611e7a30>\u001b[0m in \u001b[0;36m<module>\u001b[0;34m()\u001b[0m\n\u001b[0;32m----> 1\u001b[0;31m \u001b[0;32mfrom\u001b[0m \u001b[0mPIL\u001b[0m \u001b[0;32mimport\u001b[0m \u001b[0mimage\u001b[0m\u001b[0;34m\u001b[0m\u001b[0;34m\u001b[0m\u001b[0m\n\u001b[0m",
      "\u001b[0;31mImportError\u001b[0m: cannot import name 'image' from 'PIL' (/home/172mc001/anaconda3/lib/python3.7/site-packages/PIL/__init__.py)"
     ]
    }
   ],
   "source": []
  },
  {
   "cell_type": "code",
   "execution_count": null,
   "metadata": {},
   "outputs": [],
   "source": []
  }
 ],
 "metadata": {
  "kernelspec": {
   "display_name": "Python 3",
   "language": "python",
   "name": "python3"
  },
  "language_info": {
   "codemirror_mode": {
    "name": "ipython",
    "version": 3
   },
   "file_extension": ".py",
   "mimetype": "text/x-python",
   "name": "python",
   "nbconvert_exporter": "python",
   "pygments_lexer": "ipython3",
   "version": "3.7.1"
  }
 },
 "nbformat": 4,
 "nbformat_minor": 2
}
